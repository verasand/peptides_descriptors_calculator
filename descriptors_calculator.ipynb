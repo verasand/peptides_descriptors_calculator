{
 "cells": [
  {
   "cell_type": "markdown",
   "id": "35e1808e",
   "metadata": {},
   "source": [
    "# 🧬 Peptide Physicochemical Descriptor Calculator\n",
    "\n",
    "This notebook calculates physicochemical descriptors for peptides from a FASTA file.\n",
    "\n",
    "---\n",
    "\n",
    "## 🔍 Features:\n",
    "- Calculates various physicochemical descriptors such as hydrophobicity, charge, and molecular weight.\n",
    "- Includes QSAR descriptors and amino acid frequencies.\n",
    "- Supports additional descriptors using the Peptidy library.\n",
    "- Outputs results in a CSV file for further analysis.\n",
    "\n",
    "---\n",
    "\n",
    "## ⚙️ How to use:\n",
    "1. Install dependencies (first cell).\n",
    "2. Upload a FASTA file containing peptide sequences.\n",
    "3. Run the analysis cells to calculate descriptors and save the results.\n"
   ]
  },
  {
   "cell_type": "markdown",
   "id": "e8a5ce32",
   "metadata": {},
   "source": [
    "# 📦 Install dependencies"
   ]
  },
  {
   "cell_type": "code",
   "execution_count": null,
   "id": "b8f48424",
   "metadata": {},
   "outputs": [],
   "source": [
    "!pip install peptides peptidy biopython pandas"
   ]
  },
  {
   "cell_type": "markdown",
   "id": "3a6ecd3a",
   "metadata": {},
   "source": [
    "# 📚 Imports"
   ]
  },
  {
   "cell_type": "code",
   "execution_count": null,
   "id": "068644fd",
   "metadata": {},
   "outputs": [],
   "source": [
    "import pandas as pd\n",
    "import peptides\n",
    "import peptidy\n",
    "from Bio import SeqIO"
   ]
  },
  {
   "cell_type": "markdown",
   "id": "6de1a460",
   "metadata": {},
   "source": [
    "# 🧮 Descriptor Calculation Function"
   ]
  },
  {
   "cell_type": "code",
   "execution_count": null,
   "id": "fce4f232",
   "metadata": {},
   "outputs": [],
   "source": [
    "def calculate_descriptors(peptide_seq):\n",
    "    peptide = peptides.Peptide(peptide_seq)\n",
    "    descriptors = {\n",
    "        'length_peptide': len(peptide_seq),\n",
    "        'boman_index_peptides': peptide.boman(),\n",
    "        'hydrophobic_moment_peptides': peptide.hydrophobic_moment(window=7, angle=100),\n",
    "        'hydrophobicity_index_peptides': peptide.hydrophobicity(scale=\"KyteDoolittle\"),\n",
    "        'charge_peptides': peptide.charge(),\n",
    "        'aliphatic_index_peptides': peptide.aliphatic_index(),\n",
    "        'instability_index_peptides': peptide.instability_index(),\n",
    "        'isoelectric_point_peptides': peptide.isoelectric_point(),\n",
    "        'molecular_weight_peptides': peptide.molecular_weight()\n",
    "    }\n",
    "    # QSAR descriptors\n",
    "    for k, v in peptide.descriptors().items():\n",
    "        descriptors[f'{k}_QSAR_descriptors_peptides'] = v\n",
    "    # Amino acid frequencies\n",
    "    for aa, f in peptide.frequencies().items():\n",
    "        descriptors[f'{aa}_frequencies_peptides'] = f\n",
    "    # Peptidy descriptors\n",
    "    descriptors.update({\n",
    "        'aromaticity_peptidy': peptidy.descriptors.aromaticity(peptide),\n",
    "        'average_n_rotatable_bonds_peptidy': peptidy.descriptors.average_n_rotatable_bonds(peptide),\n",
    "        'charge_density_peptidy': peptidy.descriptors.charge_density(peptide),\n",
    "        'hidrophobic_ratio_peptidy': peptidy.descriptors.hydrophobic_aa_ratio(peptide),\n",
    "        'n_h_acceptors_peptidy': peptidy.descriptors.n_h_acceptors(peptide),\n",
    "        'n_h_acceptors_donors_peptidy': peptidy.descriptors.n_h_donors(peptide),\n",
    "        'topological_polar_surface_area_peptidy': peptidy.descriptors.topological_polar_surface_area(peptide),\n",
    "        'x_logp_energy_peptidy': peptidy.descriptors.x_logp_energy(peptide)\n",
    "    })\n",
    "    # Molecular formula\n",
    "    for el, cnt in peptidy.descriptors.molecular_formula(peptide).items():\n",
    "        descriptors[f'molecular_formula_{el}_peptidy'] = cnt\n",
    "    return descriptors"
   ]
  },
  {
   "cell_type": "markdown",
   "id": "4c97ffc9",
   "metadata": {},
   "source": [
    "# 📁 Upload FASTA File"
   ]
  },
  {
   "cell_type": "code",
   "execution_count": null,
   "id": "1aa3bc62",
   "metadata": {},
   "outputs": [],
   "source": [
    "from google.colab import files\n",
    "uploaded = files.upload()\n",
    "fasta_file = next(iter(uploaded))\n",
    "sequences = list(SeqIO.parse(fasta_file, 'fasta'))"
   ]
  },
  {
   "cell_type": "markdown",
   "id": "f4a90c0b",
   "metadata": {},
   "source": [
    "# 🧪 Run Descriptor Calculations"
   ]
  },
  {
   "cell_type": "code",
   "execution_count": null,
   "id": "8f4cfbc3",
   "metadata": {},
   "outputs": [],
   "source": [
    "results = []\n",
    "for record in sequences:\n",
    "    seq_id, seq = record.id, str(record.seq)\n",
    "    d = calculate_descriptors(seq)\n",
    "    row = {'ID': seq_id, 'Sequence': seq}\n",
    "    row.update({k: v for k, v in d.items() if not any(x in k for x in ['QSAR_descriptors_peptides','frequencies_peptides','molecular_formula'])})\n",
    "    row.update({k: v for k, v in d.items() if 'frequencies_peptides' in k})\n",
    "    row.update({k: v for k, v in d.items() if 'molecular_formula' in k})\n",
    "    row.update({k: v for k, v in d.items() if 'QSAR_descriptors_peptides' in k})\n",
    "    results.append(row)\n",
    "import pandas as pd\n",
    "df = pd.DataFrame(results)\n",
    "df.head()"
   ]
  },
  {
   "cell_type": "markdown",
   "id": "65fe1a3a",
   "metadata": {},
   "source": [
    "# 💾 Save Results to CSV"
   ]
  },
  {
   "cell_type": "code",
   "execution_count": null,
   "id": "523c2509",
   "metadata": {},
   "outputs": [],
   "source": [
    "from google.colab import files\n",
    "df.to_csv('peptides_descriptors.csv', index=False)\n",
    "files.download('peptides_descriptors.csv')"
   ]
  }
 ],
 "metadata": {
  "language_info": {
   "name": "python"
  }
 },
 "nbformat": 4,
 "nbformat_minor": 5
}
